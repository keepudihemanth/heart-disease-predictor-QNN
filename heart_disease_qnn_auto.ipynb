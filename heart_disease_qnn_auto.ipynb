{
 "cells": [
  {
   "cell_type": "code",
   "execution_count": 1,
   "id": "4b43d14c-7bf0-46c0-8ff0-fabb916c50ff",
   "metadata": {},
   "outputs": [],
   "source": [
    "import numpy as np\n",
    "import pandas as pd\n",
    "from sklearn.preprocessing import LabelEncoder, StandardScaler\n",
    "from sklearn.model_selection import train_test_split\n",
    "from sklearn.metrics import accuracy_score, f1_score, classification_report, confusion_matrix, roc_curve, auc\n",
    "from sklearn.decomposition import PCA\n",
    "\n",
    "import tensorflow as tf\n",
    "from tensorflow.keras.models import Model\n",
    "from tensorflow.keras.layers import Dense, Dropout, Input\n",
    "from tensorflow.keras.callbacks import EarlyStopping\n",
    "\n",
    "import pennylane as qml\n",
    "import matplotlib.pyplot as plt\n",
    "import pickle, os\n",
    "\n",
    "# ------------------ PARAMETERS ------------------\n",
    "TRAIN_CSV = \"heart_train.csv\"\n",
    "TEST_CSV = \"heart_test.csv\"\n",
    "RANDOM_STATE = 42\n",
    "TEST_SIZE = 0.3\n",
    "VALIDATION_SPLIT = 0.2\n",
    "BATCH_SIZE = 16\n",
    "EPOCHS = 30           # reduced for speed\n",
    "LEARNING_RATE = 5e-4\n",
    "N_LAYERS = 2          # quantum circuit layers\n",
    "MAX_QUBITS = 8        # limit for simulation\n"
   ]
  },
  {
   "cell_type": "code",
   "execution_count": 2,
   "id": "aae91a55-40a9-4fa0-a262-da45fe73b2b9",
   "metadata": {},
   "outputs": [],
   "source": [
    "# ------------------ 1) Data Loading ------------------\n",
    "train_df = pd.read_csv(TRAIN_CSV)\n",
    "\n",
    "cols_to_encode = ['Sex', 'ChestPainType', 'RestingECG', 'ExerciseAngina', 'ST_Slope']\n",
    "le_dict = {}\n",
    "for col in cols_to_encode:\n",
    "    le = LabelEncoder()\n",
    "    train_df[col] = le.fit_transform(train_df[col].astype(str))\n",
    "    le_dict[col] = le\n",
    "\n",
    "X = train_df.drop('HeartDisease', axis=1)\n",
    "y = train_df['HeartDisease']\n",
    "\n",
    "# Split train/val/test\n",
    "X_train, X_valtest, y_train, y_valtest = train_test_split(X, y, test_size=TEST_SIZE,\n",
    "                                                          random_state=RANDOM_STATE, stratify=y)\n",
    "X_val, X_test, y_val, y_test = train_test_split(X_valtest, y_valtest, test_size=0.5,\n",
    "                                                random_state=RANDOM_STATE, stratify=y_valtest)\n",
    "\n",
    "# Scale\n",
    "scaler = StandardScaler()\n",
    "X_train = scaler.fit_transform(X_train)\n",
    "X_val = scaler.transform(X_val)\n",
    "X_test = scaler.transform(X_test)\n",
    "\n"
   ]
  },
  {
   "cell_type": "code",
   "execution_count": 3,
   "id": "754e0d8e-c5b0-4aa7-a9ef-25c92d07024a",
   "metadata": {},
   "outputs": [
    {
     "name": "stdout",
     "output_type": "stream",
     "text": [
      "Using 8 qubits, input dim to quantum layer: 8\n"
     ]
    }
   ],
   "source": [
    "# ------------------ 2) Qubit setup ------------------\n",
    "n_features = X_train.shape[1]\n",
    "n_qubits = min(n_features, MAX_QUBITS)\n",
    "\n",
    "if n_features > n_qubits:\n",
    "    pca = PCA(n_components=n_qubits, random_state=RANDOM_STATE)\n",
    "    X_train_q = pca.fit_transform(X_train)\n",
    "    X_val_q = pca.transform(X_val)\n",
    "    X_test_q = pca.transform(X_test)\n",
    "else:\n",
    "    X_train_q = X_train\n",
    "    X_val_q = X_val\n",
    "    X_test_q = X_test\n",
    "\n",
    "print(f\"Using {n_qubits} qubits, input dim to quantum layer: {X_train_q.shape[1]}\")\n"
   ]
  },
  {
   "cell_type": "code",
   "execution_count": 4,
   "id": "19754d82-6f88-4c86-8a69-af3650097bc4",
   "metadata": {},
   "outputs": [],
   "source": [
    "# ------------------ 3) Quantum circuit ------------------\n",
    "dev = qml.device(\"default.qubit\", wires=n_qubits)\n",
    "\n",
    "def variational_circuit(params, x=None):\n",
    "    qml.templates.AngleEmbedding(x, wires=range(n_qubits))\n",
    "    for l in range(params.shape[0]):\n",
    "        for q in range(n_qubits):\n",
    "            qml.RX(params[l, q, 0], wires=q)\n",
    "            qml.RY(params[l, q, 1], wires=q)\n",
    "            qml.RZ(params[l, q, 2], wires=q)\n",
    "        for q in range(n_qubits):\n",
    "            qml.CNOT(wires=[q, (q+1) % n_qubits])\n",
    "\n",
    "@qml.qnode(dev, interface='tf')\n",
    "def qnode_tf(inputs, weights):\n",
    "    variational_circuit(weights, x=inputs)\n",
    "    return [qml.expval(qml.PauliZ(wires=i)) for i in range(n_qubits)]\n",
    "\n"
   ]
  },
  {
   "cell_type": "code",
   "execution_count": 5,
   "id": "21ddca94-56a9-4fb1-ae7e-b8365785daad",
   "metadata": {},
   "outputs": [],
   "source": [
    "class QNNLayer(tf.keras.layers.Layer):\n",
    "    def __init__(self, n_qubits, n_layers, **kwargs):\n",
    "        super().__init__(**kwargs)\n",
    "        init_weights = np.random.uniform(low=0, high=2*np.pi, size=(n_layers, n_qubits, 3))\n",
    "        self.weights_var = tf.Variable(init_weights, dtype=tf.float32, trainable=True)\n",
    "        self.n_qubits = n_qubits\n",
    "        self.n_layers = n_layers\n",
    "\n",
    "    def call(self, inputs):\n",
    "        return tf.map_fn(\n",
    "            lambda x: tf.cast(qnode_tf(x, self.weights_var), tf.float32),\n",
    "            inputs,\n",
    "            fn_output_signature=tf.TensorSpec(shape=(self.n_qubits,), dtype=tf.float32)\n",
    "        )"
   ]
  },
  {
   "cell_type": "code",
   "execution_count": 6,
   "id": "7e4e2879-2e51-4b1b-a23e-769aad72e961",
   "metadata": {},
   "outputs": [
    {
     "name": "stdout",
     "output_type": "stream",
     "text": [
      "WARNING:tensorflow:From C:\\Users\\keepu\\Downloads\\Analysing-of-Resumes\\myenv\\Lib\\site-packages\\keras\\src\\backend\\tensorflow\\core.py:232: The name tf.placeholder is deprecated. Please use tf.compat.v1.placeholder instead.\n",
      "\n",
      "WARNING:tensorflow:AutoGraph could not transform TransformProgram() and will run it as-is.\n",
      "Cause: mangled names are not yet supported\n",
      "To silence this warning, decorate the function with @tf.autograph.experimental.do_not_convert\n",
      "WARNING: AutoGraph could not transform TransformProgram() and will run it as-is.\n",
      "Cause: mangled names are not yet supported\n",
      "To silence this warning, decorate the function with @tf.autograph.experimental.do_not_convert\n",
      "WARNING:tensorflow:AutoGraph could not transform TransformProgram(mid_circuit_measurements, validate_device_wires, decompose, validate_measurements, _conditional_broastcast_expand, no_sampling) and will run it as-is.\n",
      "Cause: mangled names are not yet supported\n",
      "To silence this warning, decorate the function with @tf.autograph.experimental.do_not_convert\n",
      "WARNING: AutoGraph could not transform TransformProgram(mid_circuit_measurements, validate_device_wires, decompose, validate_measurements, _conditional_broastcast_expand, no_sampling) and will run it as-is.\n",
      "Cause: mangled names are not yet supported\n",
      "To silence this warning, decorate the function with @tf.autograph.experimental.do_not_convert\n",
      "WARNING:tensorflow:AutoGraph could not transform TransformProgram() and will run it as-is.\n",
      "Cause: mangled names are not yet supported\n",
      "To silence this warning, decorate the function with @tf.autograph.experimental.do_not_convert\n",
      "WARNING: AutoGraph could not transform TransformProgram() and will run it as-is.\n",
      "Cause: mangled names are not yet supported\n",
      "To silence this warning, decorate the function with @tf.autograph.experimental.do_not_convert\n",
      "WARNING:tensorflow:AutoGraph could not transform <function _gcd_import at 0x0000027A78003D80> and will run it as-is.\n",
      "Cause: Unable to locate the source code of <function _gcd_import at 0x0000027A78003D80>. Note that functions defined in certain environments, like the interactive Python shell, do not expose their source code. If that is the case, you should define them in a .py source file. If you are certain the code is graph-compatible, wrap the call using @tf.autograph.experimental.do_not_convert. Original error: could not get source code\n",
      "To silence this warning, decorate the function with @tf.autograph.experimental.do_not_convert\n",
      "WARNING: AutoGraph could not transform <function _gcd_import at 0x0000027A78003D80> and will run it as-is.\n",
      "Cause: Unable to locate the source code of <function _gcd_import at 0x0000027A78003D80>. Note that functions defined in certain environments, like the interactive Python shell, do not expose their source code. If that is the case, you should define them in a .py source file. If you are certain the code is graph-compatible, wrap the call using @tf.autograph.experimental.do_not_convert. Original error: could not get source code\n",
      "To silence this warning, decorate the function with @tf.autograph.experimental.do_not_convert\n",
      "WARNING:tensorflow:AutoGraph could not transform <function _c3_mro at 0x0000027A782F4220> and will run it as-is.\n",
      "Cause: for/else statement not yet supported\n",
      "To silence this warning, decorate the function with @tf.autograph.experimental.do_not_convert\n",
      "WARNING: AutoGraph could not transform <function _c3_mro at 0x0000027A782F4220> and will run it as-is.\n",
      "Cause: for/else statement not yet supported\n",
      "To silence this warning, decorate the function with @tf.autograph.experimental.do_not_convert\n"
     ]
    },
    {
     "data": {
      "text/html": [
       "<pre style=\"white-space:pre;overflow-x:auto;line-height:normal;font-family:Menlo,'DejaVu Sans Mono',consolas,'Courier New',monospace\"><span style=\"font-weight: bold\">Model: \"functional\"</span>\n",
       "</pre>\n"
      ],
      "text/plain": [
       "\u001b[1mModel: \"functional\"\u001b[0m\n"
      ]
     },
     "metadata": {},
     "output_type": "display_data"
    },
    {
     "data": {
      "text/html": [
       "<pre style=\"white-space:pre;overflow-x:auto;line-height:normal;font-family:Menlo,'DejaVu Sans Mono',consolas,'Courier New',monospace\">┏━━━━━━━━━━━━━━━━━━━━━━━━━━━━━━━━━━━━━━┳━━━━━━━━━━━━━━━━━━━━━━━━━━━━━┳━━━━━━━━━━━━━━━━━┓\n",
       "┃<span style=\"font-weight: bold\"> Layer (type)                         </span>┃<span style=\"font-weight: bold\"> Output Shape                </span>┃<span style=\"font-weight: bold\">         Param # </span>┃\n",
       "┡━━━━━━━━━━━━━━━━━━━━━━━━━━━━━━━━━━━━━━╇━━━━━━━━━━━━━━━━━━━━━━━━━━━━━╇━━━━━━━━━━━━━━━━━┩\n",
       "│ input_layer (<span style=\"color: #0087ff; text-decoration-color: #0087ff\">InputLayer</span>)             │ (<span style=\"color: #00d7ff; text-decoration-color: #00d7ff\">None</span>, <span style=\"color: #00af00; text-decoration-color: #00af00\">8</span>)                   │               <span style=\"color: #00af00; text-decoration-color: #00af00\">0</span> │\n",
       "├──────────────────────────────────────┼─────────────────────────────┼─────────────────┤\n",
       "│ dense (<span style=\"color: #0087ff; text-decoration-color: #0087ff\">Dense</span>)                        │ (<span style=\"color: #00d7ff; text-decoration-color: #00d7ff\">None</span>, <span style=\"color: #00af00; text-decoration-color: #00af00\">32</span>)                  │             <span style=\"color: #00af00; text-decoration-color: #00af00\">288</span> │\n",
       "├──────────────────────────────────────┼─────────────────────────────┼─────────────────┤\n",
       "│ dense_1 (<span style=\"color: #0087ff; text-decoration-color: #0087ff\">Dense</span>)                      │ (<span style=\"color: #00d7ff; text-decoration-color: #00d7ff\">None</span>, <span style=\"color: #00af00; text-decoration-color: #00af00\">8</span>)                   │             <span style=\"color: #00af00; text-decoration-color: #00af00\">264</span> │\n",
       "├──────────────────────────────────────┼─────────────────────────────┼─────────────────┤\n",
       "│ qnn_layer (<span style=\"color: #0087ff; text-decoration-color: #0087ff\">QNNLayer</span>)                 │ (<span style=\"color: #00d7ff; text-decoration-color: #00d7ff\">None</span>, <span style=\"color: #00af00; text-decoration-color: #00af00\">8</span>)                   │               <span style=\"color: #00af00; text-decoration-color: #00af00\">0</span> │\n",
       "├──────────────────────────────────────┼─────────────────────────────┼─────────────────┤\n",
       "│ dense_2 (<span style=\"color: #0087ff; text-decoration-color: #0087ff\">Dense</span>)                      │ (<span style=\"color: #00d7ff; text-decoration-color: #00d7ff\">None</span>, <span style=\"color: #00af00; text-decoration-color: #00af00\">16</span>)                  │             <span style=\"color: #00af00; text-decoration-color: #00af00\">144</span> │\n",
       "├──────────────────────────────────────┼─────────────────────────────┼─────────────────┤\n",
       "│ dropout (<span style=\"color: #0087ff; text-decoration-color: #0087ff\">Dropout</span>)                    │ (<span style=\"color: #00d7ff; text-decoration-color: #00d7ff\">None</span>, <span style=\"color: #00af00; text-decoration-color: #00af00\">16</span>)                  │               <span style=\"color: #00af00; text-decoration-color: #00af00\">0</span> │\n",
       "├──────────────────────────────────────┼─────────────────────────────┼─────────────────┤\n",
       "│ dense_3 (<span style=\"color: #0087ff; text-decoration-color: #0087ff\">Dense</span>)                      │ (<span style=\"color: #00d7ff; text-decoration-color: #00d7ff\">None</span>, <span style=\"color: #00af00; text-decoration-color: #00af00\">1</span>)                   │              <span style=\"color: #00af00; text-decoration-color: #00af00\">17</span> │\n",
       "└──────────────────────────────────────┴─────────────────────────────┴─────────────────┘\n",
       "</pre>\n"
      ],
      "text/plain": [
       "┏━━━━━━━━━━━━━━━━━━━━━━━━━━━━━━━━━━━━━━┳━━━━━━━━━━━━━━━━━━━━━━━━━━━━━┳━━━━━━━━━━━━━━━━━┓\n",
       "┃\u001b[1m \u001b[0m\u001b[1mLayer (type)                        \u001b[0m\u001b[1m \u001b[0m┃\u001b[1m \u001b[0m\u001b[1mOutput Shape               \u001b[0m\u001b[1m \u001b[0m┃\u001b[1m \u001b[0m\u001b[1m        Param #\u001b[0m\u001b[1m \u001b[0m┃\n",
       "┡━━━━━━━━━━━━━━━━━━━━━━━━━━━━━━━━━━━━━━╇━━━━━━━━━━━━━━━━━━━━━━━━━━━━━╇━━━━━━━━━━━━━━━━━┩\n",
       "│ input_layer (\u001b[38;5;33mInputLayer\u001b[0m)             │ (\u001b[38;5;45mNone\u001b[0m, \u001b[38;5;34m8\u001b[0m)                   │               \u001b[38;5;34m0\u001b[0m │\n",
       "├──────────────────────────────────────┼─────────────────────────────┼─────────────────┤\n",
       "│ dense (\u001b[38;5;33mDense\u001b[0m)                        │ (\u001b[38;5;45mNone\u001b[0m, \u001b[38;5;34m32\u001b[0m)                  │             \u001b[38;5;34m288\u001b[0m │\n",
       "├──────────────────────────────────────┼─────────────────────────────┼─────────────────┤\n",
       "│ dense_1 (\u001b[38;5;33mDense\u001b[0m)                      │ (\u001b[38;5;45mNone\u001b[0m, \u001b[38;5;34m8\u001b[0m)                   │             \u001b[38;5;34m264\u001b[0m │\n",
       "├──────────────────────────────────────┼─────────────────────────────┼─────────────────┤\n",
       "│ qnn_layer (\u001b[38;5;33mQNNLayer\u001b[0m)                 │ (\u001b[38;5;45mNone\u001b[0m, \u001b[38;5;34m8\u001b[0m)                   │               \u001b[38;5;34m0\u001b[0m │\n",
       "├──────────────────────────────────────┼─────────────────────────────┼─────────────────┤\n",
       "│ dense_2 (\u001b[38;5;33mDense\u001b[0m)                      │ (\u001b[38;5;45mNone\u001b[0m, \u001b[38;5;34m16\u001b[0m)                  │             \u001b[38;5;34m144\u001b[0m │\n",
       "├──────────────────────────────────────┼─────────────────────────────┼─────────────────┤\n",
       "│ dropout (\u001b[38;5;33mDropout\u001b[0m)                    │ (\u001b[38;5;45mNone\u001b[0m, \u001b[38;5;34m16\u001b[0m)                  │               \u001b[38;5;34m0\u001b[0m │\n",
       "├──────────────────────────────────────┼─────────────────────────────┼─────────────────┤\n",
       "│ dense_3 (\u001b[38;5;33mDense\u001b[0m)                      │ (\u001b[38;5;45mNone\u001b[0m, \u001b[38;5;34m1\u001b[0m)                   │              \u001b[38;5;34m17\u001b[0m │\n",
       "└──────────────────────────────────────┴─────────────────────────────┴─────────────────┘\n"
      ]
     },
     "metadata": {},
     "output_type": "display_data"
    },
    {
     "data": {
      "text/html": [
       "<pre style=\"white-space:pre;overflow-x:auto;line-height:normal;font-family:Menlo,'DejaVu Sans Mono',consolas,'Courier New',monospace\"><span style=\"font-weight: bold\"> Total params: </span><span style=\"color: #00af00; text-decoration-color: #00af00\">713</span> (2.79 KB)\n",
       "</pre>\n"
      ],
      "text/plain": [
       "\u001b[1m Total params: \u001b[0m\u001b[38;5;34m713\u001b[0m (2.79 KB)\n"
      ]
     },
     "metadata": {},
     "output_type": "display_data"
    },
    {
     "data": {
      "text/html": [
       "<pre style=\"white-space:pre;overflow-x:auto;line-height:normal;font-family:Menlo,'DejaVu Sans Mono',consolas,'Courier New',monospace\"><span style=\"font-weight: bold\"> Trainable params: </span><span style=\"color: #00af00; text-decoration-color: #00af00\">713</span> (2.79 KB)\n",
       "</pre>\n"
      ],
      "text/plain": [
       "\u001b[1m Trainable params: \u001b[0m\u001b[38;5;34m713\u001b[0m (2.79 KB)\n"
      ]
     },
     "metadata": {},
     "output_type": "display_data"
    },
    {
     "data": {
      "text/html": [
       "<pre style=\"white-space:pre;overflow-x:auto;line-height:normal;font-family:Menlo,'DejaVu Sans Mono',consolas,'Courier New',monospace\"><span style=\"font-weight: bold\"> Non-trainable params: </span><span style=\"color: #00af00; text-decoration-color: #00af00\">0</span> (0.00 B)\n",
       "</pre>\n"
      ],
      "text/plain": [
       "\u001b[1m Non-trainable params: \u001b[0m\u001b[38;5;34m0\u001b[0m (0.00 B)\n"
      ]
     },
     "metadata": {},
     "output_type": "display_data"
    }
   ],
   "source": [
    "\n",
    "# ------------------ 5) Build hybrid model ------------------\n",
    "inp = Input(shape=(X_train_q.shape[1],))\n",
    "x = Dense(32, activation='relu')(inp)\n",
    "x = Dense(n_qubits, activation='linear')(x)\n",
    "x = QNNLayer(n_qubits=n_qubits, n_layers=N_LAYERS)(x)\n",
    "x = Dense(16, activation='relu')(x)\n",
    "x = Dropout(0.2)(x)\n",
    "out = Dense(1, activation='sigmoid')(x)\n",
    "\n",
    "hybrid_model = Model(inputs=inp, outputs=out)\n",
    "hybrid_model.compile(optimizer=tf.keras.optimizers.Adam(learning_rate=LEARNING_RATE),\n",
    "                     loss='binary_crossentropy', metrics=['accuracy'])\n",
    "\n",
    "hybrid_model.summary()\n",
    "\n"
   ]
  },
  {
   "cell_type": "code",
   "execution_count": null,
   "id": "6fcb5e3f-f85c-4dcf-8ca2-3fb8042763b6",
   "metadata": {
    "scrolled": true
   },
   "outputs": [],
   "source": [
    "\n",
    "# ------------------ 6) Train ------------------\n",
    "early_stop = EarlyStopping(monitor='val_loss', patience=5, restore_best_weights=True)\n",
    "\n",
    "history = hybrid_model.fit(X_train_q, y_train, validation_data=(X_val_q, y_val),\n",
    "                           epochs=EPOCHS, batch_size=BATCH_SIZE,\n",
    "                           callbacks=[early_stop], verbose=1)\n"
   ]
  },
  {
   "cell_type": "code",
   "execution_count": 8,
   "id": "38519521-0ec3-469c-a8a1-52aae75b9419",
   "metadata": {},
   "outputs": [
    {
     "name": "stdout",
     "output_type": "stream",
     "text": [
      "\u001b[1m4/4\u001b[0m \u001b[32m━━━━━━━━━━━━━━━━━━━━\u001b[0m\u001b[37m\u001b[0m \u001b[1m4s\u001b[0m 679ms/step\n",
      "Accuracy: 0.8288288288288288\n",
      "F1: 0.848\n",
      "              precision    recall  f1-score   support\n",
      "\n",
      "           0       0.83      0.78      0.80        50\n",
      "           1       0.83      0.87      0.85        61\n",
      "\n",
      "    accuracy                           0.83       111\n",
      "   macro avg       0.83      0.82      0.83       111\n",
      "weighted avg       0.83      0.83      0.83       111\n",
      "\n",
      "Confusion Matrix:\n",
      " [[39 11]\n",
      " [ 8 53]]\n"
     ]
    },
    {
     "data": {
      "image/png": "[encoded data removed]",
      "text/plain": [
       "<Figure size 640x480 with 1 Axes>"
      ]
     },
     "metadata": {},
     "output_type": "display_data"
    }
   ],
   "source": [
    "\n",
    "# ------------------ 7) Evaluate ------------------\n",
    "y_pred_prob = hybrid_model.predict(X_test_q).ravel()\n",
    "y_pred_class = (y_pred_prob > 0.5).astype(int)\n",
    "\n",
    "print(\"Accuracy:\", accuracy_score(y_test, y_pred_class))\n",
    "print(\"F1:\", f1_score(y_test, y_pred_class))\n",
    "print(classification_report(y_test, y_pred_class))\n",
    "\n",
    "# Confusion matrix\n",
    "cm = confusion_matrix(y_test, y_pred_class)\n",
    "print(\"Confusion Matrix:\\n\", cm)\n",
    "\n",
    "# ROC\n",
    "fpr, tpr, _ = roc_curve(y_test, y_pred_prob)\n",
    "roc_auc = auc(fpr, tpr)\n",
    "plt.plot(fpr, tpr, label=f\"AUC = {roc_auc:.2f}\")\n",
    "plt.plot([0, 1], [0, 1], linestyle=\"--\")\n",
    "plt.xlabel(\"False Positive Rate\")\n",
    "plt.ylabel(\"True Positive Rate\")\n",
    "plt.legend()\n",
    "plt.show()\n"
   ]
  },
  {
   "cell_type": "code",
   "execution_count": 9,
   "id": "d973553d-69ed-41a2-8bbf-62e7911e3af1",
   "metadata": {},
   "outputs": [
    {
     "name": "stdout",
     "output_type": "stream",
     "text": [
      "\u001b[1m6/6\u001b[0m \u001b[32m━━━━━━━━━━━━━━━━━━━━\u001b[0m\u001b[37m\u001b[0m \u001b[1m0s\u001b[0m 40ms/step\n",
      "✅ submission_qnn.csv saved\n"
     ]
    }
   ],
   "source": [
    "\n",
    "# ------------------ 8) Predict on final test set ------------------\n",
    "test_df = pd.read_csv(TEST_CSV)\n",
    "ids = test_df[\"id\"] if \"id\" in test_df.columns else pd.Series(range(len(test_df)))\n",
    "\n",
    "for col in cols_to_encode:\n",
    "    test_df[col] = le_dict[col].transform(test_df[col].astype(str))\n",
    "\n",
    "X_final_test = test_df.drop(columns=[\"id\"], errors=\"ignore\")\n",
    "X_final_test = scaler.transform(X_final_test)\n",
    "\n",
    "if n_features > n_qubits:\n",
    "    X_final_test_q = pca.transform(X_final_test)\n",
    "else:\n",
    "    X_final_test_q = X_final_test\n",
    "\n",
    "test_pred_prob = hybrid_model.predict(X_final_test_q).ravel()\n",
    "test_pred_class = (test_pred_prob > 0.5).astype(int)\n",
    "\n",
    "submission = pd.DataFrame({\"id\": ids, \"HeartDisease\": test_pred_class})\n",
    "submission.to_csv(\"submission_qnn.csv\", index=False)\n",
    "print(\"✅ submission_qnn.csv saved\")\n",
    "\n"
   ]
  },
  {
   "cell_type": "code",
   "execution_count": 10,
   "id": "4c5c1dff-f326-4e5e-b481-900dbcc6f269",
   "metadata": {
    "scrolled": true
   },
   "outputs": [
    {
     "name": "stdout",
     "output_type": "stream",
     "text": [
      "✅ Model and scaler saved in model_qnn/\n"
     ]
    }
   ],
   "source": [
    "# ------------------ 9) Save scaler + weights ------------------os.makedirs('model_qnn', exist_ok=True)\n",
    "with open('model_qnn/scaler.pkl', 'wb') as f:\n",
    "    pickle.dump(scaler, f)\n",
    "\n",
    "hybrid_model.save_weights('model_qnn/model.weights.h5')\n",
    "print(\"✅ Model and scaler saved in model_qnn/\")\n"
   ]
  },
  {
   "cell_type": "code",
   "execution_count": null,
   "id": "2c4ce452-02d6-4864-97e8-10221c4ea9ee",
   "metadata": {},
   "outputs": [],
   "source": []
  }
 ],
 "metadata": {
  "kernelspec": {
   "display_name": "Python (myenv)",
   "language": "python",
   "name": "myenv"
  },
  "language_info": {
   "codemirror_mode": {
    "name": "ipython",
    "version": 3
   },
   "file_extension": ".py",
   "mimetype": "text/x-python",
   "name": "python",
   "nbconvert_exporter": "python",
   "pygments_lexer": "ipython3",
   "version": "3.11.9"
  }
 },
 "nbformat": 4,
 "nbformat_minor": 5
}
